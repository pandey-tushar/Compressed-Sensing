{
 "cells": [
  {
   "cell_type": "code",
   "execution_count": 74,
   "metadata": {},
   "outputs": [],
   "source": [
    "import numpy as np\n",
    "def poly(n,prime,r,p):\n",
    "    ind = int(n/p)\n",
    "    rem = n%p\n",
    "    ans= rem\n",
    "    i=1\n",
    "    while(ind!=0 and i<=r):\n",
    "        ans+=(ind%p)*(prime**i)\n",
    "        i+=1\n",
    "        ind = int(ind/p)    \n",
    "    return ans%p\n",
    "\n",
    "def devore(p,r):\n",
    "    if r>=p:\n",
    "        print('r should be less than p')\n",
    "        return None\n",
    "    else:\n",
    "        matrix = np.zeros((p*p, p**(r+1)),dtype='int')\n",
    "        for i in range(p**(r+1)):\n",
    "            for j in range(p):\n",
    "                val = poly(i,j,r,p)\n",
    "                row_num = val + j*p\n",
    "                matrix[row_num][i] = 1\n",
    "        return matrix\n",
    "    "
   ]
  },
  {
   "cell_type": "code",
   "execution_count": 75,
   "metadata": {},
   "outputs": [
    {
     "data": {
      "text/plain": [
       "array([[1, 0, 0, ..., 0, 0, 0],\n",
       "       [0, 1, 0, ..., 0, 0, 0],\n",
       "       [0, 0, 1, ..., 0, 0, 0],\n",
       "       ...,\n",
       "       [0, 0, 0, ..., 0, 0, 0],\n",
       "       [0, 0, 0, ..., 1, 0, 0],\n",
       "       [0, 0, 0, ..., 0, 1, 0]])"
      ]
     },
     "execution_count": 75,
     "metadata": {},
     "output_type": "execute_result"
    }
   ],
   "source": [
    "mat = devore(13,5)\n",
    "mat"
   ]
  },
  {
   "cell_type": "code",
   "execution_count": 76,
   "metadata": {},
   "outputs": [
    {
     "data": {
      "text/plain": [
       "(169, 4826809)"
      ]
     },
     "execution_count": 76,
     "metadata": {},
     "output_type": "execute_result"
    }
   ],
   "source": [
    "mat.shape"
   ]
  },
  {
   "cell_type": "code",
   "execution_count": null,
   "metadata": {},
   "outputs": [],
   "source": []
  },
  {
   "cell_type": "code",
   "execution_count": null,
   "metadata": {},
   "outputs": [],
   "source": []
  }
 ],
 "metadata": {
  "kernelspec": {
   "display_name": "Python 3",
   "language": "python",
   "name": "python3"
  },
  "language_info": {
   "codemirror_mode": {
    "name": "ipython",
    "version": 3
   },
   "file_extension": ".py",
   "mimetype": "text/x-python",
   "name": "python",
   "nbconvert_exporter": "python",
   "pygments_lexer": "ipython3",
   "version": "3.7.6"
  }
 },
 "nbformat": 4,
 "nbformat_minor": 4
}
