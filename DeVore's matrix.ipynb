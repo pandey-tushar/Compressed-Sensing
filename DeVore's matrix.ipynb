{
 "cells": [
  {
   "cell_type": "code",
   "execution_count": 1,
   "metadata": {},
   "outputs": [],
   "source": [
    "import numpy as np\n",
    "def poly(n,prime,r,p):\n",
    "    ind = int(n/p)\n",
    "    rem = n%p\n",
    "    ans = rem\n",
    "    i = 1\n",
    "    while(ind != 0 and i <= r):\n",
    "        ans+=(ind%p)*(prime**i)\n",
    "        i+=1\n",
    "        ind = int(ind/p)    \n",
    "    return ans%p\n",
    "\n",
    "def devore(p,r):\n",
    "    if r>=p:\n",
    "        print('r should be less than p')\n",
    "        return None\n",
    "    else:\n",
    "        matrix = np.zeros((p*p, p**(r+1)),dtype='int')        \n",
    "        for i in range(p**(r+1)):\n",
    "            for j in range(p):\n",
    "                val = poly(i,j,r,p)\n",
    "                row_num = val + j*p\n",
    "                matrix[row_num][i] = 1\n",
    "        return matrix\n"
   ]
  },
  {
   "cell_type": "code",
   "execution_count": 2,
   "metadata": {},
   "outputs": [
    {
     "data": {
      "text/plain": [
       "array([[1, 0, 0, ..., 0, 0, 0],\n",
       "       [0, 1, 0, ..., 0, 0, 0],\n",
       "       [0, 0, 1, ..., 0, 0, 0],\n",
       "       ...,\n",
       "       [0, 0, 0, ..., 1, 0, 0],\n",
       "       [0, 0, 0, ..., 0, 1, 0],\n",
       "       [0, 0, 0, ..., 0, 0, 1]])"
      ]
     },
     "execution_count": 2,
     "metadata": {},
     "output_type": "execute_result"
    }
   ],
   "source": [
    "p = 19\n",
    "r = 4\n",
    "mat = devore(p,r)\n",
    "mat"
   ]
  },
  {
   "cell_type": "code",
   "execution_count": 3,
   "metadata": {},
   "outputs": [
    {
     "data": {
      "text/plain": [
       "(361, 2476099)"
      ]
     },
     "execution_count": 3,
     "metadata": {},
     "output_type": "execute_result"
    }
   ],
   "source": [
    "mat.shape"
   ]
  },
  {
   "cell_type": "code",
   "execution_count": 4,
   "metadata": {},
   "outputs": [
    {
     "name": "stdout",
     "output_type": "stream",
     "text": [
      "1.0363332530108122 1.0\n"
     ]
    }
   ],
   "source": [
    "from math import *\n",
    "mat = mat/sqrt(p)\n",
    "N = mat.shape[1]\n",
    "s = 3\n",
    "x = np.zeros(N)\n",
    "S1 = np.random.permutation(N)\n",
    "S1 = S1[:s]\n",
    "x[S1] = np.random.rand(s)\n",
    "x = x/np.linalg.norm(x)\n",
    "#compute y\n",
    "y =np.matmul(mat,x)\n",
    "print (np.linalg.norm(y), np.linalg.norm(x))"
   ]
  },
  {
   "cell_type": "code",
   "execution_count": 5,
   "metadata": {},
   "outputs": [
    {
     "data": {
      "text/plain": [
       "(1.2412670766236366e-16, 3)"
      ]
     },
     "execution_count": 5,
     "metadata": {},
     "output_type": "execute_result"
    }
   ],
   "source": [
    "#OMP\n",
    "S = []\n",
    "vec = np.zeros(N)\n",
    "n_iter = s + 1\n",
    "for i in range(n_iter):\n",
    "    y_n = np.matmul(mat, vec)\n",
    "    j = np.argmax([abs(ele) for ele in np.matmul(mat.transpose(), (y - y_n))])\n",
    "    if j not in S:\n",
    "        S.append(j)\n",
    "    x_n = np.matmul(np.linalg.pinv(mat[:,S]),y)    \n",
    "    vec = np.zeros(N)\n",
    "    vec[S] = x_n\n",
    "\n",
    "np.linalg.norm(x-vec), i"
   ]
  },
  {
   "cell_type": "code",
   "execution_count": 438,
   "metadata": {},
   "outputs": [
    {
     "data": {
      "text/plain": [
       "0.0"
      ]
     },
     "execution_count": 438,
     "metadata": {},
     "output_type": "execute_result"
    }
   ],
   "source": [
    "#IHT\n",
    "n_iter = 20\n",
    "vec = np.zeros(N)\n",
    "for i in range(n_iter):\n",
    "    y_n = np.dot(mat, vec)  \n",
    "    x_n = vec + np.dot(mat.transpose(), (y-y_n))\n",
    "    vec = np.zeros(N)\n",
    "    temp = sorted(x_n, key = abs)[-s:]\n",
    "    vec[[np.argwhere(x_n == temp[i])[0][0] for i in range(s)]] = temp\n",
    "\n",
    "  \n",
    "np.linalg.norm(x-vec,2)"
   ]
  },
  {
   "cell_type": "code",
   "execution_count": null,
   "metadata": {},
   "outputs": [],
   "source": []
  },
  {
   "cell_type": "code",
   "execution_count": null,
   "metadata": {},
   "outputs": [],
   "source": []
  },
  {
   "cell_type": "code",
   "execution_count": null,
   "metadata": {},
   "outputs": [],
   "source": []
  },
  {
   "cell_type": "code",
   "execution_count": null,
   "metadata": {},
   "outputs": [],
   "source": []
  },
  {
   "cell_type": "code",
   "execution_count": null,
   "metadata": {},
   "outputs": [],
   "source": []
  },
  {
   "cell_type": "code",
   "execution_count": null,
   "metadata": {},
   "outputs": [],
   "source": []
  }
 ],
 "metadata": {
  "kernelspec": {
   "display_name": "Python 3",
   "language": "python",
   "name": "python3"
  },
  "language_info": {
   "codemirror_mode": {
    "name": "ipython",
    "version": 3
   },
   "file_extension": ".py",
   "mimetype": "text/x-python",
   "name": "python",
   "nbconvert_exporter": "python",
   "pygments_lexer": "ipython3",
   "version": "3.7.6"
  }
 },
 "nbformat": 4,
 "nbformat_minor": 4
}
