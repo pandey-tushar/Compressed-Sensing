{
 "cells": [
  {
   "cell_type": "code",
   "execution_count": 43,
   "metadata": {},
   "outputs": [],
   "source": [
    "import numpy as np\n",
    "def poly(n,prime,r,p):\n",
    "    ind = int(n/p)\n",
    "    rem = n%p\n",
    "    ans= rem\n",
    "    i=1\n",
    "    while(ind!=0 and i<=r):\n",
    "        ans+=(ind%p)*(prime**i)\n",
    "        i+=1\n",
    "        ind = int(ind/p)    \n",
    "    return ans%p\n",
    "\n",
    "def devore(p,r):\n",
    "    if r>=p:\n",
    "        print('r should be less than p')\n",
    "        return None\n",
    "    else:\n",
    "        matrix = np.zeros((p*p, p**(r+1)))\n",
    "        for i in range(p**(r+1)):\n",
    "            for j in range(p):\n",
    "                val = poly(i,j,r,p)\n",
    "                row_num = val + j*p\n",
    "                matrix[row_num][i] = 1/p\n",
    "        return matrix\n",
    "    "
   ]
  },
  {
   "cell_type": "code",
   "execution_count": 48,
   "metadata": {},
   "outputs": [
    {
     "data": {
      "text/plain": [
       "array([[0.2, 0. , 0. , ..., 0. , 0. , 0. ],\n",
       "       [0. , 0.2, 0. , ..., 0. , 0. , 0. ],\n",
       "       [0. , 0. , 0.2, ..., 0.2, 0. , 0. ],\n",
       "       ...,\n",
       "       [0. , 0. , 0.2, ..., 0.2, 0. , 0. ],\n",
       "       [0. , 0. , 0. , ..., 0. , 0.2, 0. ],\n",
       "       [0. , 0. , 0. , ..., 0. , 0. , 0.2]])"
      ]
     },
     "execution_count": 48,
     "metadata": {},
     "output_type": "execute_result"
    }
   ],
   "source": [
    "mat = devore(5,4)\n",
    "mat"
   ]
  },
  {
   "cell_type": "code",
   "execution_count": 63,
   "metadata": {},
   "outputs": [
    {
     "data": {
      "text/plain": [
       "2"
      ]
     },
     "execution_count": 63,
     "metadata": {},
     "output_type": "execute_result"
    }
   ],
   "source": [
    "poly(9,3,4,5)"
   ]
  },
  {
   "cell_type": "code",
   "execution_count": 50,
   "metadata": {},
   "outputs": [
    {
     "data": {
      "text/plain": [
       "(25, 3125)"
      ]
     },
     "execution_count": 50,
     "metadata": {},
     "output_type": "execute_result"
    }
   ],
   "source": [
    "mat.shape"
   ]
  },
  {
   "cell_type": "code",
   "execution_count": null,
   "metadata": {},
   "outputs": [],
   "source": []
  },
  {
   "cell_type": "code",
   "execution_count": null,
   "metadata": {},
   "outputs": [],
   "source": []
  }
 ],
 "metadata": {
  "kernelspec": {
   "display_name": "Python 3",
   "language": "python",
   "name": "python3"
  },
  "language_info": {
   "codemirror_mode": {
    "name": "ipython",
    "version": 3
   },
   "file_extension": ".py",
   "mimetype": "text/x-python",
   "name": "python",
   "nbconvert_exporter": "python",
   "pygments_lexer": "ipython3",
   "version": "3.7.6"
  }
 },
 "nbformat": 4,
 "nbformat_minor": 4
}
