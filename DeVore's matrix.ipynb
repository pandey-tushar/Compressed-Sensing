{
 "cells": [
  {
   "cell_type": "code",
   "execution_count": 1,
   "metadata": {},
   "outputs": [],
   "source": [
    "import numpy as np\n",
    "def poly(n,prime,r,p):\n",
    "    ind = int(n/p)\n",
    "    rem = n%p\n",
    "    ans= rem\n",
    "    i=1\n",
    "    while(ind!=0 and i<=r):\n",
    "        ans+=(ind%p)*(prime**i)\n",
    "        i+=1\n",
    "        ind = int(ind/p)    \n",
    "    return ans%p\n",
    "\n",
    "def devore(p,r):\n",
    "    if r>=p:\n",
    "        print('r should be less than p')\n",
    "        return None\n",
    "    else:\n",
    "        matrix = np.zeros((p*p, p**(r+1)),dtype='int')        \n",
    "        for i in range(p**(r+1)):\n",
    "            for j in range(p):\n",
    "                val = poly(i,j,r,p)\n",
    "                row_num = val + j*p\n",
    "                matrix[row_num][i] = 1\n",
    "        return matrix\n"
   ]
  },
  {
   "cell_type": "code",
   "execution_count": 77,
   "metadata": {},
   "outputs": [
    {
     "data": {
      "text/plain": [
       "array([[0.22941573, 0.        , 0.        , ..., 0.        , 0.        ,\n",
       "        0.        ],\n",
       "       [0.        , 0.22941573, 0.        , ..., 0.        , 0.        ,\n",
       "        0.        ],\n",
       "       [0.        , 0.        , 0.22941573, ..., 0.        , 0.        ,\n",
       "        0.        ],\n",
       "       ...,\n",
       "       [0.        , 0.        , 0.        , ..., 0.22941573, 0.        ,\n",
       "        0.        ],\n",
       "       [0.        , 0.        , 0.        , ..., 0.        , 0.22941573,\n",
       "        0.        ],\n",
       "       [0.        , 0.        , 0.        , ..., 0.        , 0.        ,\n",
       "        0.22941573]])"
      ]
     },
     "execution_count": 77,
     "metadata": {},
     "output_type": "execute_result"
    }
   ],
   "source": [
    "p = 19\n",
    "r = 4\n",
    "mat = devore(p,r)\n",
    "mat = mat/sqrt(p)\n",
    "mat"
   ]
  },
  {
   "cell_type": "code",
   "execution_count": null,
   "metadata": {},
   "outputs": [],
   "source": []
  },
  {
   "cell_type": "code",
   "execution_count": 78,
   "metadata": {},
   "outputs": [
    {
     "data": {
      "text/plain": [
       "(361, 2476099)"
      ]
     },
     "execution_count": 78,
     "metadata": {},
     "output_type": "execute_result"
    }
   ],
   "source": [
    "mat.shape"
   ]
  },
  {
   "cell_type": "code",
   "execution_count": 79,
   "metadata": {},
   "outputs": [
    {
     "name": "stdout",
     "output_type": "stream",
     "text": [
      "1.0054536966685315 1.0\n"
     ]
    }
   ],
   "source": [
    "from math import *\n",
    "N = mat.shape[1]\n",
    "s = 3\n",
    "x=np.zeros(N)\n",
    "S1= np.random.permutation(N)\n",
    "S1 = S1[:s]\n",
    "x[S1] = np.random.rand(s)\n",
    "x = x/np.linalg.norm(x)\n",
    "#compute y\n",
    "y =np.matmul(mat,x)\n",
    "print (np.linalg.norm(y), np.linalg.norm(x))"
   ]
  },
  {
   "cell_type": "code",
   "execution_count": 80,
   "metadata": {},
   "outputs": [
    {
     "data": {
      "text/plain": [
       "0.0432781531878385"
      ]
     },
     "execution_count": 80,
     "metadata": {},
     "output_type": "execute_result"
    }
   ],
   "source": [
    "#OMP\n",
    "S = []\n",
    "vec = np.zeros(N)\n",
    "n_iter = 500\n",
    "for i in range(n_iter):\n",
    "    y_n = np.matmul(mat, vec)\n",
    "    j = np.argmax([abs(ele) for ele in np.matmul(mat.transpose(), (y - y_n))])\n",
    "    S.append(j)\n",
    "    x_n = np.matmul(np.linalg.pinv(mat[:,S]),y)\n",
    "    if np.linalg.norm(x_n-vec[S])<pow(10,-3):\n",
    "        break\n",
    "    vec = np.zeros(N)\n",
    "    vec[S] = x_n\n",
    "\n",
    "np.linalg.norm(x-vec) "
   ]
  },
  {
   "cell_type": "code",
   "execution_count": 81,
   "metadata": {},
   "outputs": [
    {
     "data": {
      "text/plain": [
       "15"
      ]
     },
     "execution_count": 81,
     "metadata": {},
     "output_type": "execute_result"
    }
   ],
   "source": [
    "i"
   ]
  },
  {
   "cell_type": "code",
   "execution_count": null,
   "metadata": {},
   "outputs": [],
   "source": [
    " "
   ]
  },
  {
   "cell_type": "code",
   "execution_count": null,
   "metadata": {},
   "outputs": [],
   "source": []
  },
  {
   "cell_type": "code",
   "execution_count": null,
   "metadata": {},
   "outputs": [],
   "source": []
  }
 ],
 "metadata": {
  "kernelspec": {
   "display_name": "Python 3",
   "language": "python",
   "name": "python3"
  },
  "language_info": {
   "codemirror_mode": {
    "name": "ipython",
    "version": 3
   },
   "file_extension": ".py",
   "mimetype": "text/x-python",
   "name": "python",
   "nbconvert_exporter": "python",
   "pygments_lexer": "ipython3",
   "version": "3.7.6"
  }
 },
 "nbformat": 4,
 "nbformat_minor": 4
}
