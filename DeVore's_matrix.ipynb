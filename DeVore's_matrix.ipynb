{
 "cells": [
  {
   "cell_type": "code",
   "execution_count": 23,
   "metadata": {
    "colab": {},
    "colab_type": "code",
    "id": "-WbaM1dUpTWf"
   },
   "outputs": [],
   "source": [
    "import numpy as np\n",
    "def poly(n,prime,r,p):\n",
    "    ind = int(n/p)\n",
    "    rem = n%p\n",
    "    ans = rem\n",
    "    i = 1\n",
    "    while(ind != 0 and i <= r):\n",
    "        ans+=(ind%p)*(prime**i)\n",
    "        i+=1\n",
    "        ind = int(ind/p)    \n",
    "    return ans%p\n",
    "\n",
    "def devore(p,r):\n",
    "    if r>=p:\n",
    "        print('r should be less than p')\n",
    "        return None\n",
    "    else:\n",
    "        matrix = np.zeros((p*p, p**(r+1)),dtype='int')    \n",
    "        for i in range(p**(r+1)):\n",
    "            for j in range(p):\n",
    "                val = poly(i,j,r,p)\n",
    "                row_num = val + j*p\n",
    "                matrix[row_num][i] = 1\n",
    "        return matrix\n"
   ]
  },
  {
   "cell_type": "code",
   "execution_count": 24,
   "metadata": {
    "colab": {
     "base_uri": "https://localhost:8080/",
     "height": 134
    },
    "colab_type": "code",
    "id": "HyT03AF-pTWj",
    "outputId": "820c0f0e-c98c-42ae-afc8-41fd2d369e7c"
   },
   "outputs": [
    {
     "data": {
      "text/plain": [
       "array([[1, 0, 0, ..., 0, 0, 0],\n",
       "       [0, 1, 0, ..., 0, 0, 0],\n",
       "       [0, 0, 1, ..., 0, 0, 0],\n",
       "       ...,\n",
       "       [0, 0, 0, ..., 1, 0, 0],\n",
       "       [0, 0, 0, ..., 0, 1, 0],\n",
       "       [0, 0, 0, ..., 0, 0, 1]])"
      ]
     },
     "execution_count": 24,
     "metadata": {},
     "output_type": "execute_result"
    }
   ],
   "source": [
    "p = 19\n",
    "r = 4\n",
    "mat = devore(p,r)\n",
    "mat"
   ]
  },
  {
   "cell_type": "code",
   "execution_count": 25,
   "metadata": {
    "colab": {
     "base_uri": "https://localhost:8080/",
     "height": 34
    },
    "colab_type": "code",
    "id": "ZjXP87DmpTWo",
    "outputId": "26cddd94-b229-4e13-bf64-1ab7ac979d3e"
   },
   "outputs": [
    {
     "data": {
      "text/plain": [
       "(361, 2476099)"
      ]
     },
     "execution_count": 25,
     "metadata": {},
     "output_type": "execute_result"
    }
   ],
   "source": [
    "mat.shape"
   ]
  },
  {
   "cell_type": "code",
   "execution_count": 29,
   "metadata": {
    "colab": {
     "base_uri": "https://localhost:8080/",
     "height": 34
    },
    "colab_type": "code",
    "id": "NqsW93sFpTWq",
    "outputId": "beeb04b9-aeae-4b14-fdd1-fc9eb5c388fd"
   },
   "outputs": [
    {
     "name": "stdout",
     "output_type": "stream",
     "text": [
      "1.000340566279137 1.0\n"
     ]
    }
   ],
   "source": [
    "from math import *\n",
    "mat = mat/sqrt(p)\n",
    "N = mat.shape[1]\n",
    "s = 3\n",
    "x = np.zeros(N)\n",
    "S1 = np.random.permutation(N)\n",
    "S1 = S1[:s]\n",
    "x[S1] = np.random.rand(s)\n",
    "x = x/np.linalg.norm(x)\n",
    "#compute y\n",
    "y = mat@x\n",
    "print (np.linalg.norm(y), np.linalg.norm(x))"
   ]
  },
  {
   "cell_type": "code",
   "execution_count": 27,
   "metadata": {
    "colab": {
     "base_uri": "https://localhost:8080/",
     "height": 34
    },
    "colab_type": "code",
    "id": "Z5AVA1Q6pTWu",
    "outputId": "31ed0930-be4e-447c-8a51-86f0dee101b1"
   },
   "outputs": [
    {
     "data": {
      "text/plain": [
       "1.5716250041522723e-16"
      ]
     },
     "execution_count": 27,
     "metadata": {},
     "output_type": "execute_result"
    }
   ],
   "source": [
    "#OMP\n",
    "S = []\n",
    "vec = np.zeros(N)\n",
    "n_iter = s + 1\n",
    "for i in range(n_iter):\n",
    "    y_n = mat@vec\n",
    "    j = np.argmax([abs(ele) for ele in mat.transpose()@(y - y_n)])\n",
    "    if j not in S:\n",
    "        S.append(j)\n",
    "    x_n = np.linalg.pinv(mat[:,S])@y   \n",
    "    vec = np.zeros(N)\n",
    "    vec[S] = x_n\n",
    "\n",
    "np.linalg.norm(x-vec)"
   ]
  },
  {
   "cell_type": "code",
   "execution_count": 30,
   "metadata": {
    "colab": {
     "base_uri": "https://localhost:8080/",
     "height": 34
    },
    "colab_type": "code",
    "id": "uR2Xp44cpTWw",
    "outputId": "367607eb-ac2b-4d01-8001-d2bbdd5133d6"
   },
   "outputs": [
    {
     "data": {
      "text/plain": [
       "9.871997943141294e-16"
      ]
     },
     "execution_count": 30,
     "metadata": {},
     "output_type": "execute_result"
    }
   ],
   "source": [
    "#IHT\n",
    "n_iter = 20\n",
    "vec = np.zeros(N)\n",
    "for i in range(n_iter):\n",
    "    y_n = mat@vec\n",
    "    x_n = vec + mat.transpose()@(y-y_n)\n",
    "    vec = np.zeros(N)\n",
    "    temp = sorted(x_n, key = abs)[-s:]\n",
    "    vec[[np.argwhere(x_n == temp[i])[0][0] for i in range(s)]] = temp\n",
    "\n",
    "  \n",
    "np.linalg.norm(x-vec,2)"
   ]
  },
  {
   "cell_type": "code",
   "execution_count": null,
   "metadata": {
    "colab": {},
    "colab_type": "code",
    "id": "TzHwAcVGpTWy"
   },
   "outputs": [],
   "source": []
  },
  {
   "cell_type": "code",
   "execution_count": 31,
   "metadata": {
    "colab": {},
    "colab_type": "code",
    "id": "FGe-T2-3pTW2"
   },
   "outputs": [],
   "source": [
    "#Convergence of OMP\n",
    "n_trials = 50\n",
    "omp_iter = []\n",
    "for j in range(n_trials):\n",
    "    x = np.zeros(N)\n",
    "    S1 = np.random.permutation(N)\n",
    "    S1 = S1[:s]\n",
    "    x[S1] = np.random.rand(s)\n",
    "    x = x/np.linalg.norm(x)\n",
    "    y = mat@x\n",
    "    S = []\n",
    "    vec = np.zeros(N)\n",
    "    n_iter = 2*s\n",
    "    for i in range(n_iter):\n",
    "        y_n = mat@vec\n",
    "        j = np.argmax([abs(ele) for ele in mat.transpose()@(y - y_n)])\n",
    "        if j not in S:\n",
    "            S.append(j)\n",
    "        x_n = np.linalg.pinv(mat[:,S])@y \n",
    "        vec = np.zeros(N)\n",
    "        vec[S] = x_n\n",
    "        if np.linalg.norm(x-vec) < 1e-12:\n",
    "            omp_iter.append(i)\n",
    "            break\n",
    "    \n",
    "\n"
   ]
  },
  {
   "cell_type": "code",
   "execution_count": 32,
   "metadata": {
    "colab": {},
    "colab_type": "code",
    "id": "WbknoXwvpTW4"
   },
   "outputs": [],
   "source": [
    "#Convergence of IHT\n",
    "n_trials = 50\n",
    "iht_iter = []\n",
    "for j in range(n_trials):    \n",
    "    x = np.zeros(N)\n",
    "    S1 = np.random.permutation(N)\n",
    "    S1 = S1[:s]\n",
    "    x[S1] = np.random.rand(s)\n",
    "    x = x/np.linalg.norm(x)\n",
    "    y = mat@x\n",
    "    S = []\n",
    "    vec = np.zeros(N)\n",
    "    n_iter = 25\n",
    "    vec = np.zeros(N)\n",
    "    for i in range(n_iter):\n",
    "        y_n = mat@vec\n",
    "        x_n = vec + mat.transpose()@(y-y_n)\n",
    "        vec = np.zeros(N)\n",
    "        temp = sorted(x_n, key = abs)[-s:]\n",
    "        vec[[np.argwhere(x_n == temp[i])[0][0] for i in range(s)]] = temp\n",
    "        if np.linalg.norm(x-vec) < 1e-12:\n",
    "            iht_iter.append(i)\n",
    "            break"
   ]
  },
  {
   "cell_type": "code",
   "execution_count": 33,
   "metadata": {
    "colab": {
     "base_uri": "https://localhost:8080/",
     "height": 34
    },
    "colab_type": "code",
    "id": "CmWnbkflpTW6",
    "outputId": "ae351e59-c736-48c6-bac7-e6dc1c11ea8c"
   },
   "outputs": [
    {
     "data": {
      "text/plain": [
       "20"
      ]
     },
     "execution_count": 33,
     "metadata": {},
     "output_type": "execute_result"
    }
   ],
   "source": [
    "max(iht_iter)"
   ]
  },
  {
   "cell_type": "code",
   "execution_count": 34,
   "metadata": {
    "colab": {
     "base_uri": "https://localhost:8080/",
     "height": 34
    },
    "colab_type": "code",
    "id": "i3A91ClPpTW8",
    "outputId": "ac1ca3c5-165b-42bb-cc9f-63cbc259b8f3"
   },
   "outputs": [
    {
     "data": {
      "text/plain": [
       "2"
      ]
     },
     "execution_count": 34,
     "metadata": {},
     "output_type": "execute_result"
    }
   ],
   "source": [
    "max(omp_iter)"
   ]
  },
  {
   "cell_type": "code",
   "execution_count": null,
   "metadata": {
    "colab": {},
    "colab_type": "code",
    "id": "idTW_d8rpTW-"
   },
   "outputs": [],
   "source": []
  }
 ],
 "metadata": {
  "colab": {
   "name": "DeVore's matrix.ipynb",
   "provenance": []
  },
  "kernelspec": {
   "display_name": "Python 3",
   "language": "python",
   "name": "python3"
  },
  "language_info": {
   "codemirror_mode": {
    "name": "ipython",
    "version": 3
   },
   "file_extension": ".py",
   "mimetype": "text/x-python",
   "name": "python",
   "nbconvert_exporter": "python",
   "pygments_lexer": "ipython3",
   "version": "3.7.6"
  }
 },
 "nbformat": 4,
 "nbformat_minor": 1
}
