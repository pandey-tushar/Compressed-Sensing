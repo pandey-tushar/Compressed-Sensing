{
  "nbformat": 4,
  "nbformat_minor": 0,
  "metadata": {
    "kernelspec": {
      "display_name": "Python 3",
      "language": "python",
      "name": "python3"
    },
    "language_info": {
      "codemirror_mode": {
        "name": "ipython",
        "version": 3
      },
      "file_extension": ".py",
      "mimetype": "text/x-python",
      "name": "python",
      "nbconvert_exporter": "python",
      "pygments_lexer": "ipython3",
      "version": "3.7.6"
    },
    "colab": {
      "name": "DeVore's matrix.ipynb",
      "provenance": []
    },
    "accelerator": "GPU"
  },
  "cells": [
    {
      "cell_type": "code",
      "metadata": {
        "id": "-WbaM1dUpTWf",
        "colab_type": "code",
        "colab": {}
      },
      "source": [
        "import numpy as np\n",
        "def poly(n,prime,r,p):\n",
        "    ind = int(n/p)\n",
        "    rem = n%p\n",
        "    ans = rem\n",
        "    i = 1\n",
        "    while(ind != 0 and i <= r):\n",
        "        ans+=(ind%p)*(prime**i)\n",
        "        i+=1\n",
        "        ind = int(ind/p)    \n",
        "    return ans%p\n",
        "\n",
        "def devore(p,r):\n",
        "    if r>=p:\n",
        "        print('r should be less than p')\n",
        "        return None\n",
        "    else:\n",
        "        matrix = np.zeros((p*p, p**(r+1)),dtype='int')        \n",
        "        for i in range(p**(r+1)):\n",
        "            for j in range(p):\n",
        "                val = poly(i,j,r,p)\n",
        "                row_num = val + j*p\n",
        "                matrix[row_num][i] = 1\n",
        "        return matrix\n"
      ],
      "execution_count": null,
      "outputs": []
    },
    {
      "cell_type": "code",
      "metadata": {
        "id": "HyT03AF-pTWj",
        "colab_type": "code",
        "colab": {
          "base_uri": "https://localhost:8080/",
          "height": 134
        },
        "outputId": "82d41924-76ba-45e8-c08d-bd0bee1b2b95"
      },
      "source": [
        "p = 17\n",
        "r = 4\n",
        "mat = devore(p,r)\n",
        "mat"
      ],
      "execution_count": null,
      "outputs": [
        {
          "output_type": "execute_result",
          "data": {
            "text/plain": [
              "array([[1, 0, 0, ..., 0, 0, 0],\n",
              "       [0, 1, 0, ..., 0, 0, 0],\n",
              "       [0, 0, 1, ..., 0, 0, 0],\n",
              "       ...,\n",
              "       [0, 0, 0, ..., 1, 0, 0],\n",
              "       [0, 0, 0, ..., 0, 1, 0],\n",
              "       [0, 0, 0, ..., 0, 0, 1]])"
            ]
          },
          "metadata": {
            "tags": []
          },
          "execution_count": 3
        }
      ]
    },
    {
      "cell_type": "code",
      "metadata": {
        "id": "ZjXP87DmpTWo",
        "colab_type": "code",
        "colab": {
          "base_uri": "https://localhost:8080/",
          "height": 34
        },
        "outputId": "8eb10c4f-aaac-4e5f-faa3-7eb77782a949"
      },
      "source": [
        "mat.shape"
      ],
      "execution_count": null,
      "outputs": [
        {
          "output_type": "execute_result",
          "data": {
            "text/plain": [
              "(289, 1419857)"
            ]
          },
          "metadata": {
            "tags": []
          },
          "execution_count": 4
        }
      ]
    },
    {
      "cell_type": "code",
      "metadata": {
        "id": "NqsW93sFpTWq",
        "colab_type": "code",
        "colab": {
          "base_uri": "https://localhost:8080/",
          "height": 34
        },
        "outputId": "958a008f-6c84-44c8-91a9-2b802a6c7b67"
      },
      "source": [
        "from math import *\n",
        "mat = mat/sqrt(p)\n",
        "N = mat.shape[1]\n",
        "s = 4\n",
        "x = np.zeros(N)\n",
        "S1 = np.random.permutation(N)\n",
        "S1 = S1[:s]\n",
        "x[S1] = np.random.rand(s)\n",
        "x = x/np.linalg.norm(x)\n",
        "#compute y\n",
        "y =np.matmul(mat,x)\n",
        "print (np.linalg.norm(y), np.linalg.norm(x))"
      ],
      "execution_count": null,
      "outputs": [
        {
          "output_type": "stream",
          "text": [
            "1.0479087352876928 1.0\n"
          ],
          "name": "stdout"
        }
      ]
    },
    {
      "cell_type": "code",
      "metadata": {
        "id": "Z5AVA1Q6pTWu",
        "colab_type": "code",
        "colab": {
          "base_uri": "https://localhost:8080/",
          "height": 34
        },
        "outputId": "9744acbc-c765-4cf7-9ea7-57324fe8458a"
      },
      "source": [
        "#OMP\n",
        "S = []\n",
        "vec = np.zeros(N)\n",
        "n_iter = s + 1\n",
        "for i in range(n_iter):\n",
        "    y_n = np.matmul(mat, vec)\n",
        "    j = np.argmax([abs(ele) for ele in np.matmul(mat.transpose(), (y - y_n))])\n",
        "    if j not in S:\n",
        "        S.append(j)\n",
        "    x_n = np.matmul(np.linalg.pinv(mat[:,S]),y)    \n",
        "    vec = np.zeros(N)\n",
        "    vec[S] = x_n\n",
        "\n",
        "np.linalg.norm(x-vec)"
      ],
      "execution_count": null,
      "outputs": [
        {
          "output_type": "execute_result",
          "data": {
            "text/plain": [
              "4.041272810440265e-16"
            ]
          },
          "metadata": {
            "tags": []
          },
          "execution_count": 6
        }
      ]
    },
    {
      "cell_type": "code",
      "metadata": {
        "id": "uR2Xp44cpTWw",
        "colab_type": "code",
        "colab": {
          "base_uri": "https://localhost:8080/",
          "height": 34
        },
        "outputId": "91fb2b9e-7353-490a-d5a4-4f6cded1ef5d"
      },
      "source": [
        "#IHT\n",
        "n_iter = 25\n",
        "vec = np.zeros(N)\n",
        "for i in range(n_iter):\n",
        "    y_n = np.dot(mat, vec)  \n",
        "    x_n = vec + np.dot(mat.transpose(), (y-y_n))\n",
        "    vec = np.zeros(N)\n",
        "    temp = sorted(x_n, key = abs)[-s:]\n",
        "    vec[[np.argwhere(x_n == temp[i])[0][0] for i in range(s)]] = temp\n",
        "\n",
        "  \n",
        "np.linalg.norm(x-vec,2)"
      ],
      "execution_count": null,
      "outputs": [
        {
          "output_type": "execute_result",
          "data": {
            "text/plain": [
              "0.0"
            ]
          },
          "metadata": {
            "tags": []
          },
          "execution_count": 7
        }
      ]
    },
    {
      "cell_type": "code",
      "metadata": {
        "id": "TzHwAcVGpTWy",
        "colab_type": "code",
        "colab": {}
      },
      "source": [
        ""
      ],
      "execution_count": null,
      "outputs": []
    },
    {
      "cell_type": "code",
      "metadata": {
        "id": "FGe-T2-3pTW2",
        "colab_type": "code",
        "colab": {}
      },
      "source": [
        "#Convergence of OMP\n",
        "n_trials = 50\n",
        "omp_iter = []\n",
        "for j in range(n_trials):\n",
        "    x = np.zeros(N)\n",
        "    S1 = np.random.permutation(N)\n",
        "    S1 = S1[:s]\n",
        "    x[S1] = np.random.rand(s)\n",
        "    x = x/np.linalg.norm(x)\n",
        "    y =np.dot(mat,x)\n",
        "    S = []\n",
        "    vec = np.zeros(N)\n",
        "    n_iter = 2*s\n",
        "    for i in range(n_iter):\n",
        "        y_n = np.matmul(mat, vec)\n",
        "        j = np.argmax([abs(ele) for ele in np.matmul(mat.transpose(), (y - y_n))])\n",
        "        if j not in S:\n",
        "            S.append(j)\n",
        "        x_n = np.matmul(np.linalg.pinv(mat[:,S]),y)    \n",
        "        vec = np.zeros(N)\n",
        "        vec[S] = x_n\n",
        "        if np.linalg.norm(x-vec) < 1e-12:\n",
        "            omp_iter.append(i)\n",
        "            break\n",
        "    \n",
        "\n"
      ],
      "execution_count": null,
      "outputs": []
    },
    {
      "cell_type": "code",
      "metadata": {
        "id": "WbknoXwvpTW4",
        "colab_type": "code",
        "colab": {}
      },
      "source": [
        "#Convergence of IHT\n",
        "n_trials = 50\n",
        "iht_iter = []\n",
        "for j in range(n_trials):\n",
        "    print(j)\n",
        "    x = np.zeros(N)\n",
        "    S1 = np.random.permutation(N)\n",
        "    S1 = S1[:s]\n",
        "    x[S1] = np.random.rand(s)\n",
        "    x = x/np.linalg.norm(x)\n",
        "    y =np.dot(mat,x)\n",
        "    S = []\n",
        "    vec = np.zeros(N)\n",
        "    n_iter = 25\n",
        "    vec = np.zeros(N)\n",
        "    for i in range(n_iter):\n",
        "        y_n = np.dot(mat, vec)  \n",
        "        x_n = vec + np.dot(mat.transpose(), (y-y_n))\n",
        "        vec = np.zeros(N)\n",
        "        temp = sorted(x_n, key = abs)[-s:]\n",
        "        vec[[np.argwhere(x_n == temp[i])[0][0] for i in range(s)]] = temp\n",
        "        if np.linalg.norm(x-vec) < 1e-12:\n",
        "            iht_iter.append(i)\n",
        "            break"
      ],
      "execution_count": null,
      "outputs": []
    },
    {
      "cell_type": "code",
      "metadata": {
        "id": "CmWnbkflpTW6",
        "colab_type": "code",
        "colab": {
          "base_uri": "https://localhost:8080/",
          "height": 34
        },
        "outputId": "1d097cd6-3d22-42f6-946e-5da7fcfebc6f"
      },
      "source": [
        "max(iht_iter)"
      ],
      "execution_count": null,
      "outputs": [
        {
          "output_type": "execute_result",
          "data": {
            "text/plain": [
              "23"
            ]
          },
          "metadata": {
            "tags": []
          },
          "execution_count": 10
        }
      ]
    },
    {
      "cell_type": "code",
      "metadata": {
        "id": "i3A91ClPpTW8",
        "colab_type": "code",
        "colab": {
          "base_uri": "https://localhost:8080/",
          "height": 34
        },
        "outputId": "b2fec349-c26d-4f29-e078-be99a670210b"
      },
      "source": [
        "max(omp_iter)"
      ],
      "execution_count": null,
      "outputs": [
        {
          "output_type": "execute_result",
          "data": {
            "text/plain": [
              "3"
            ]
          },
          "metadata": {
            "tags": []
          },
          "execution_count": 11
        }
      ]
    },
    {
      "cell_type": "code",
      "metadata": {
        "id": "idTW_d8rpTW-",
        "colab_type": "code",
        "colab": {}
      },
      "source": [
        ""
      ],
      "execution_count": null,
      "outputs": []
    }
  ]
}