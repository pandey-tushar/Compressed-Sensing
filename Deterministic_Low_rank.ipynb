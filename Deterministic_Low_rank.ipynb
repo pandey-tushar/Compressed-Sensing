{
 "cells": [
  {
   "cell_type": "code",
   "execution_count": 1,
   "metadata": {},
   "outputs": [],
   "source": [
    "import numpy as np\n",
    "A = []\n",
    "N = 1200\n",
    "m = int(N/10)"
   ]
  },
  {
   "cell_type": "code",
   "execution_count": 8,
   "metadata": {},
   "outputs": [],
   "source": [
    "\"\"\"\n",
    "#polynomial with certain irreducible poly\n",
    "#For simplicity p = 17 and the irred is fixed. \n",
    "from sympy import *\n",
    "def polyn(n,y,q,h,p = 17,irred = None):\n",
    "    a=[]\n",
    "    quotient = int(n/q)\n",
    "    rem = n%q\n",
    "    a.append(rem)\n",
    "    while(quotient != 0):\n",
    "        a.append(quotient%q)\n",
    "        quotient = int(quotient/q) \n",
    "    for i in range(17-len(a)):\n",
    "        a.append(0)\n",
    "    #Got list of coeff in a\n",
    "    #Define f and then take f^h\n",
    "    x = symbols('x')\n",
    "    f = 0\n",
    "    for i in range(len(a)):\n",
    "        f+= a[i]*x**i\n",
    "    f2 = f**h\n",
    "    irred = x**6 + 3*x + 1\n",
    "    f_mod_E = prem(f2, irred)\n",
    "    return (f_mod_E.subs(x,y)%p)\n",
    "\n",
    "def measurement_matrices(p,r,N):\n",
    "    sys_of_mat = []\n",
    "    if r>=p:\n",
    "        print('r should be less than p')\n",
    "        return None\n",
    "    else:\n",
    "        for h in range(N):            \n",
    "            matrix = np.zeros((p*p, p**(r+1)),dtype='int')           \n",
    "            for i in range(p**(r+1)):\n",
    "                for j in range(p):\n",
    "                    val = polyn(i,j,p,h)\n",
    "                    row_num = val + j*p\n",
    "                    matrix[row_num][i] = 1\n",
    "            sys_of_mat.append(matrix)\n",
    "        return sys_of_mat\n",
    "\"\"\""
   ]
  },
  {
   "cell_type": "code",
   "execution_count": 250,
   "metadata": {},
   "outputs": [
    {
     "data": {
      "text/plain": [
       "0.9709107856954144"
      ]
     },
     "execution_count": 250,
     "metadata": {},
     "output_type": "execute_result"
    }
   ],
   "source": [
    "#Checking RIP for matrix measurements\n",
    "def matrix_rip_check(N,r):\n",
    "    u = np.random.rand(N,1)\n",
    "    u = u/np.linalg.norm(u)\n",
    "    low_matrix = u*u.T\n",
    "    for i in range(1,r):\n",
    "        v = np.random.rand(N,1)\n",
    "        v = v/np.linalg.norm(v)\n",
    "        low_matrix+= v*v.T\n",
    "    low_matrix = low_matrix/np.linalg.norm(low_matrix)\n",
    "    #The low rank matrix has been created with Frobenius norm 1\n",
    "    trace = []\n",
    "    #Now we will create a system of matrices for measurement\n",
    "    #This can possibly be improved using apt scaling and lesser measurements\n",
    "    for j in range(r*r):\n",
    "        vec = np.zeros(N)\n",
    "        for i in range(0,N,2*r):\n",
    "            vec[(i+j)%N] = (-1)**(i/(2*r))\n",
    "        mat = []\n",
    "        for j in range(N):\n",
    "            mat.append(vec)\n",
    "            vec = np.delete(np.insert(vec,0,vec[len(vec)-1]), len(vec))\n",
    "        mat = np.array(mat)/np.sqrt(r)\n",
    "        #Add trace of mat*low_matrix\n",
    "        trace.append(np.trace(mat*low_matrix))\n",
    "    return np.linalg.norm(trace)\n",
    "#Checking the norm for N = 1200 and r = 3\n",
    "matrix_rip_check(1200,3)"
   ]
  },
  {
   "cell_type": "code",
   "execution_count": 252,
   "metadata": {},
   "outputs": [
    {
     "data": {
      "text/plain": [
       "0.963731622097365"
      ]
     },
     "execution_count": 252,
     "metadata": {},
     "output_type": "execute_result"
    }
   ],
   "source": [
    "#N= 1500, r = 5\n",
    "matrix_rip_check(1500,5)"
   ]
  },
  {
   "cell_type": "code",
   "execution_count": 218,
   "metadata": {},
   "outputs": [],
   "source": [
    "#Find the behaviour of norm of the trace vector for different N with fixed r, and different r with fixed N\n",
    "def asymp_mat_rip(N_def = 1000, r_def = 5):\n",
    "    N_asym = []\n",
    "    r_asym = []\n",
    "    for N in range(1200,2000,100):\n",
    "        N_asym.append(matrix_rip_check(N,r_def))\n",
    "    for r in range(1,20):\n",
    "        r_asym.append(matrix_rip_check(N_def, r))\n",
    "    return N_asym, r_asym\n",
    "N_asym, r_asym = asymp_mat_rip(N_def = 5000)"
   ]
  },
  {
   "cell_type": "code",
   "execution_count": 219,
   "metadata": {},
   "outputs": [
    {
     "data": {
      "image/png": "[encoded data removed]",
      "text/plain": [
       "<Figure size 432x288 with 1 Axes>"
      ]
     },
     "metadata": {
      "needs_background": "light"
     },
     "output_type": "display_data"
    }
   ],
   "source": [
    "import matplotlib.pyplot as plt\n",
    "plt.plot(N_asym)\n",
    "plt.show()"
   ]
  },
  {
   "cell_type": "code",
   "execution_count": 220,
   "metadata": {},
   "outputs": [
    {
     "data": {
      "image/png": "[encoded data removed]",
      "text/plain": [
       "<Figure size 432x288 with 1 Axes>"
      ]
     },
     "metadata": {
      "needs_background": "light"
     },
     "output_type": "display_data"
    }
   ],
   "source": [
    "plt.plot(r_asym)\n",
    "plt.show()"
   ]
  },
  {
   "cell_type": "code",
   "execution_count": 254,
   "metadata": {},
   "outputs": [],
   "source": [
    "#For rank = int(N/400), the traces are calculated\n",
    "def monte_carlo():\n",
    "    asym = {}\n",
    "    for N in range(500,5000,100):\n",
    "        asym[N] = []\n",
    "        for r in range(1, int(N/400)):\n",
    "            asym[N].append(matrix_rip_check(N,r))\n",
    "    return asym\n",
    "asym = monte_carlo()"
   ]
  },
  {
   "cell_type": "code",
   "execution_count": 255,
   "metadata": {},
   "outputs": [
    {
     "data": {
      "text/plain": [
       "{500: [],\n",
       " 600: [],\n",
       " 700: [],\n",
       " 800: [1.0000000000000002],\n",
       " 900: [1.0],\n",
       " 1000: [1.0],\n",
       " 1100: [1.0],\n",
       " 1200: [1.0, 0.7999120412721235],\n",
       " 1300: [0.9999999999999999, 0.7988962882444313],\n",
       " 1400: [1.0000000000000002, 0.7994694951072001],\n",
       " 1500: [1.0, 0.8025490460640176],\n",
       " 1600: [0.9999999999999999, 0.8037866227627437, 0.9674832298666891],\n",
       " 1700: [1.0000000000000002, 0.7990492920654857, 1.19778258737734],\n",
       " 1800: [1.0000000000000002, 0.8003127192928351, 0.9697354021609281],\n",
       " 1900: [1.0, 0.7961789956302223, 0.9671541457323268],\n",
       " 2000: [0.9999999999999998,\n",
       "  0.7980256496396354,\n",
       "  1.1899963836117688,\n",
       "  0.8605680539700452],\n",
       " 2100: [0.9999999999999999,\n",
       "  0.8013743033497802,\n",
       "  0.9705629148608325,\n",
       "  1.0551614937013956],\n",
       " 2200: [0.9999999999999996,\n",
       "  0.8026544576500849,\n",
       "  0.9699661569568178,\n",
       "  0.8621416951199048],\n",
       " 2300: [0.9999999999999993,\n",
       "  0.7949053892483937,\n",
       "  1.1883986156845623,\n",
       "  1.0564643783554641],\n",
       " 2400: [1.0000000000000004,\n",
       "  0.8008654843211755,\n",
       "  0.9709420727154984,\n",
       "  0.8617965230129675,\n",
       "  0.9628759546957575],\n",
       " 2500: [1.0,\n",
       "  0.8014685977527976,\n",
       "  0.9678639612152545,\n",
       "  1.0536538698023137,\n",
       "  0.9649161680227045],\n",
       " 2600: [1.0000000000000002,\n",
       "  0.8005350897818522,\n",
       "  1.1897998152683,\n",
       "  0.8600000294284602,\n",
       "  0.960334123394243],\n",
       " 2700: [1.0000000000000002,\n",
       "  0.8032766673156957,\n",
       "  0.9694108685781472,\n",
       "  1.0563332311210463,\n",
       "  0.962573931026549],\n",
       " 2800: [1.0000000000000004,\n",
       "  0.8022775436398889,\n",
       "  0.9689331472694275,\n",
       "  0.8623079825732276,\n",
       "  0.9607446696476295,\n",
       "  1.021672519447534],\n",
       " 2900: [1.0,\n",
       "  0.7986351172766726,\n",
       "  1.1896876633916615,\n",
       "  1.0611815113061087,\n",
       "  0.9587023624213412,\n",
       "  1.0253845658232683],\n",
       " 3000: [0.9999999999999998,\n",
       "  0.7989493672895851,\n",
       "  0.9660238891485381,\n",
       "  0.8630578699709421,\n",
       "  0.9590552610683102,\n",
       "  0.8892500497364091],\n",
       " 3100: [1.0000000000000009,\n",
       "  0.7997746859816078,\n",
       "  0.9679500157364641,\n",
       "  1.0639671778124418,\n",
       "  0.9591992971057257,\n",
       "  1.0237032292857027],\n",
       " 3200: [1.0,\n",
       "  0.7999489215543678,\n",
       "  1.1839459084462147,\n",
       "  0.860279446882919,\n",
       "  0.9596817342220623,\n",
       "  1.0230550964223952,\n",
       "  0.9547189553937276],\n",
       " 3300: [1.0000000000000004,\n",
       "  0.801503351653102,\n",
       "  0.9704739731209606,\n",
       "  1.0546620904647406,\n",
       "  0.9628040347219898,\n",
       "  0.8822025608474524,\n",
       "  0.9544782491967772],\n",
       " 3400: [1.0,\n",
       "  0.7966760867270251,\n",
       "  0.9676024224396594,\n",
       "  0.8652827619044525,\n",
       "  0.962269737312318,\n",
       "  1.0242398335080736,\n",
       "  0.9591825340821483],\n",
       " 3500: [1.0000000000000002,\n",
       "  0.796244000726953,\n",
       "  1.1901597724180422,\n",
       "  1.0575227622964505,\n",
       "  0.9640486800073125,\n",
       "  1.0234490796236206,\n",
       "  0.9562844385205685],\n",
       " 3600: [0.9999999999999998,\n",
       "  0.8006968103810665,\n",
       "  0.9712841052752528,\n",
       "  0.860351116960476,\n",
       "  0.9600074439363286,\n",
       "  0.8870006378126813,\n",
       "  1.070166973838662,\n",
       "  0.8988446225693965],\n",
       " 3700: [1.0000000000000004,\n",
       "  0.7980630980437091,\n",
       "  0.9696703609981596,\n",
       "  1.0562892835146096,\n",
       "  0.9586746353582722,\n",
       "  1.026966132975835,\n",
       "  1.0711878122969385,\n",
       "  1.003993729041369],\n",
       " 3800: [0.9999999999999989,\n",
       "  0.8019616264135012,\n",
       "  1.1831137139631225,\n",
       "  0.8594017446302529,\n",
       "  0.9650919648390075,\n",
       "  1.024944770918938,\n",
       "  1.0679438976282585,\n",
       "  1.0051615962172629],\n",
       " 3900: [1.0,\n",
       "  0.8020470876476986,\n",
       "  0.9674739125350952,\n",
       "  1.0542125364013317,\n",
       "  0.9624966397342553,\n",
       "  0.8881005806590652,\n",
       "  0.958061609054345,\n",
       "  1.005249861246818],\n",
       " 4000: [0.9999999999999999,\n",
       "  0.8017582372717212,\n",
       "  0.9728506818961,\n",
       "  0.8596531266527039,\n",
       "  0.963157085643591,\n",
       "  1.0228419622518996,\n",
       "  0.9562524606226649,\n",
       "  0.8982173020504242,\n",
       "  1.0445034711873333],\n",
       " 4100: [1.0,\n",
       "  0.8017241863879705,\n",
       "  1.1837624522255796,\n",
       "  1.0563950690360888,\n",
       "  0.9614949232653242,\n",
       "  1.0246391219973277,\n",
       "  0.9555312195379912,\n",
       "  1.0055823019203487,\n",
       "  0.9529503283843218],\n",
       " 4200: [0.9999999999999996,\n",
       "  0.7985368254505869,\n",
       "  0.972117922845624,\n",
       "  0.8598697905988973,\n",
       "  0.959861573723271,\n",
       "  0.8860031145683674,\n",
       "  0.9583371731207273,\n",
       "  1.0061709055412704,\n",
       "  1.0427861395723388],\n",
       " 4300: [0.9999999999999998,\n",
       "  0.7979255971405756,\n",
       "  0.9720139041374352,\n",
       "  1.0559265674773313,\n",
       "  0.9572367548223183,\n",
       "  1.0239929811240023,\n",
       "  1.0658478084085679,\n",
       "  1.0086018166925397,\n",
       "  0.9545785456152763],\n",
       " 4400: [0.9999999999999998,\n",
       "  0.7991522034954796,\n",
       "  1.1902947777692632,\n",
       "  0.8640686987932764,\n",
       "  0.9591774432073255,\n",
       "  1.0271698381943062,\n",
       "  1.0705737232590746,\n",
       "  0.8981905708992689,\n",
       "  1.0438898440733206,\n",
       "  0.906337343661392],\n",
       " 4500: [1.0000000000000007,\n",
       "  0.8011704456248647,\n",
       "  0.9688049564355441,\n",
       "  1.0603675822957128,\n",
       "  0.9617745518584231,\n",
       "  0.8834951835790823,\n",
       "  1.0663705989680015,\n",
       "  1.0056563482239542,\n",
       "  0.9528951357350762,\n",
       "  0.9090427026881156],\n",
       " 4600: [0.9999999999999993,\n",
       "  0.7997345742192324,\n",
       "  0.9672242213424357,\n",
       "  0.8563521279151456,\n",
       "  0.9596838896083351,\n",
       "  1.023650323035893,\n",
       "  0.9561067003041752,\n",
       "  1.0045760966900539,\n",
       "  0.9550062551882893,\n",
       "  0.9080987723737357],\n",
       " 4700: [0.9999999999999996,\n",
       "  0.8006758332257885,\n",
       "  1.1905893421380362,\n",
       "  1.055134866980491,\n",
       "  0.9611255084864672,\n",
       "  1.023652988618915,\n",
       "  0.9542551522525304,\n",
       "  1.0036646479947688,\n",
       "  1.0426606448611615,\n",
       "  0.9075498023483856],\n",
       " 4800: [0.9999999999999996,\n",
       "  0.8006872598018172,\n",
       "  0.9742991308503484,\n",
       "  0.8620625846878192,\n",
       "  0.9629073315740271,\n",
       "  0.8862255938937552,\n",
       "  0.9587323774273948,\n",
       "  0.9015259707769854,\n",
       "  0.9524678696321681,\n",
       "  0.9082981313559421,\n",
       "  1.0296870966434464],\n",
       " 4900: [1.0000000000000013,\n",
       "  0.7999291255338667,\n",
       "  0.9698514216910228,\n",
       "  1.056144767112773,\n",
       "  0.9625443428982572,\n",
       "  1.0250024107618028,\n",
       "  0.9567517699946781,\n",
       "  1.0052822566730286,\n",
       "  1.0454142528549462,\n",
       "  0.90617786474182,\n",
       "  0.9522928487234571]}"
      ]
     },
     "execution_count": 255,
     "metadata": {},
     "output_type": "execute_result"
    }
   ],
   "source": [
    "asym"
   ]
  },
  {
   "cell_type": "code",
   "execution_count": 267,
   "metadata": {},
   "outputs": [
    {
     "data": {
      "image/png": "[encoded data removed]",
      "text/plain": [
       "<Figure size 432x288 with 1 Axes>"
      ]
     },
     "metadata": {
      "needs_background": "light"
     },
     "output_type": "display_data"
    }
   ],
   "source": [
    "#We see the delta value by looking at the maximum and minimum of the traces we found\n",
    "#in the previous step for each N and a range of r values\n",
    "delta = []\n",
    "for i in range(3,len(asym)):\n",
    "    minimum = min(list(asym.values())[i])\n",
    "    maximum = max(list(asym.values())[i])\n",
    "    delta.append(max(1-minimum,maximum-1))\n",
    "plt.plot(delta)\n",
    "plt.show()"
   ]
  },
  {
   "cell_type": "code",
   "execution_count": 268,
   "metadata": {},
   "outputs": [
    {
     "data": {
      "text/plain": [
       "0.9473652273275481"
      ]
     },
     "execution_count": 268,
     "metadata": {},
     "output_type": "execute_result"
    }
   ],
   "source": [
    "#Norm check for N = 10000, r = 25 (r = 10000/400)\n",
    "matrix_rip_check(10000,25)"
   ]
  },
  {
   "cell_type": "code",
   "execution_count": null,
   "metadata": {},
   "outputs": [],
   "source": []
  }
 ],
 "metadata": {
  "kernelspec": {
   "display_name": "Python 3",
   "language": "python",
   "name": "python3"
  },
  "language_info": {
   "codemirror_mode": {
    "name": "ipython",
    "version": 3
   },
   "file_extension": ".py",
   "mimetype": "text/x-python",
   "name": "python",
   "nbconvert_exporter": "python",
   "pygments_lexer": "ipython3",
   "version": "3.7.6"
  }
 },
 "nbformat": 4,
 "nbformat_minor": 4
}
