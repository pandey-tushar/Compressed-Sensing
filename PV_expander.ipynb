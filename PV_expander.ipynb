{
 "cells": [
  {
   "cell_type": "code",
   "execution_count": 7,
   "metadata": {},
   "outputs": [],
   "source": [
    "#Finding an Irreducible polynomial of degree 4 in F19\n",
    "a0 = 1\n",
    "a1 = 0\n",
    "for a in range(19):\n",
    "    for a in range(19):\n",
    "        for y in range(19):\n",
    "            if (y**4 + a1*y + a0)%19 == 0:\n",
    "                print(a0,a1,y)\n",
    "                break"
   ]
  },
  {
   "cell_type": "code",
   "execution_count": 8,
   "metadata": {},
   "outputs": [
    {
     "name": "stdout",
     "output_type": "stream",
     "text": [
      "0\n",
      "5000\n",
      "10000\n",
      "15000\n",
      "20000\n",
      "25000\n",
      "30000\n",
      "35000\n",
      "40000\n",
      "45000\n",
      "50000\n",
      "55000\n",
      "60000\n",
      "65000\n",
      "70000\n",
      "75000\n",
      "80000\n",
      "85000\n",
      "90000\n",
      "95000\n",
      "100000\n",
      "105000\n",
      "110000\n",
      "115000\n",
      "120000\n",
      "125000\n",
      "130000\n"
     ]
    }
   ],
   "source": [
    "import numpy as np\n",
    "from sympy import *\n",
    "\n",
    "def poly2(n,y,q,h,irred = None):     \n",
    "    '''\n",
    "    This function returns tuple (f(y), f^h mod E (y))\n",
    "    where E(x) is the irreducible polynomial in x.\n",
    "    f(x) is found using n in base q\n",
    "    This gives us the coeff of f(x)\n",
    "    '''\n",
    "    a=[]\n",
    "    quotient = int(n/q)\n",
    "    rem = n%q\n",
    "    a.append(rem)\n",
    "    while(quotient != 0):\n",
    "        a.append(quotient%q)\n",
    "        quotient = int(quotient/q) \n",
    "    for i in range(q-len(a)):\n",
    "        a.append(0)\n",
    "    #Got list of coeff in a\n",
    "    x = symbols('x')\n",
    "    f = 0\n",
    "    for i in range(len(a)):\n",
    "        f+= a[i]*x**i\n",
    "    f2 = f**h\n",
    "    irred = x**4 + 1\n",
    "    f_mod_E = prem(f2, irred)\n",
    "    return (f.subs(x,y)%q,f_mod_E.subs(x,y)%q)\n",
    "    \n",
    "def deterministic(q,N,h):\n",
    "    '''\n",
    "    Gives a dictionary with keys as col index and \n",
    "    and values in key as non zero entries in each col\n",
    "    '''\n",
    "    dict_of_ones = {}\n",
    "    for n in range(q**N):\n",
    "        if n%10000==0:\n",
    "                print(n)\n",
    "        dict_of_ones[n]=[]\n",
    "        for y in range(q):\n",
    "            #list_of_ones.append((n,y,poly(n,y,q), poly2(n,y,q,h)))\n",
    "            polys = poly2(n,y,q,h)            \n",
    "            dict_of_ones[n].append(y + polys[0]*q + polys[1]*q**2)\n",
    "    return dict_of_ones\n",
    "    \n",
    "from scipy.sparse import csr_matrix\n",
    "q = 19\n",
    "n = 4\n",
    "h = 4\n",
    "indices = deterministic(q,n,h)\n"
   ]
  },
  {
   "cell_type": "code",
   "execution_count": 9,
   "metadata": {},
   "outputs": [],
   "source": [
    "#This probably helps in faster multiplication \n",
    "#of matrices and vectors\n",
    "def prod(A,x):\n",
    "    res = np.zeros(len(A.keys()))\n",
    "    for i in range(len(x)):        \n",
    "        temp = np.array(A[i], dtype = int)\n",
    "        res[temp] = res[temp] +x[i]\n",
    "    return res\n",
    "def trans_prod(A,x):\n",
    "    #this is A_T@x\n",
    "    res = []\n",
    "    for i in range(len(A.keys())):\n",
    "        temp = np.array(A[i])@x\n",
    "        res.append(temp)\n",
    "    return res\n",
    "#The only reason why I used matrix is because \n",
    "#Finding the pseudo-inverse using dict is difficult"
   ]
  },
  {
   "cell_type": "code",
   "execution_count": 29,
   "metadata": {},
   "outputs": [
    {
     "name": "stdout",
     "output_type": "stream",
     "text": [
      "(6859, 130321)\n",
      "1.0815392495241487 1.0\n"
     ]
    }
   ],
   "source": [
    "N = q**n\n",
    "s = 75\n",
    "x = np.zeros(N)\n",
    "S1 = np.random.permutation(N)\n",
    "S1 = S1[:s]\n",
    "x[S1] = np.random.rand(s)\n",
    "x = x/np.linalg.norm(x)\n",
    "#Normalizing x\n",
    "x_new = x/np.sqrt(q)\n",
    "data_x = []\n",
    "data_y = []\n",
    "\n",
    "for key in indices.keys():\n",
    "    for i in range(q):\n",
    "        data_x.append(key)\n",
    "        data_y.append(indices[key][i])\n",
    "mat = csr_matrix((np.ones(len(data_x)), (data_x,data_y)), shape=(q**n,q**3))\n",
    "mat = mat.getH()\n",
    "#Find y\n",
    "y = mat@x_new\n",
    "print (np.linalg.norm(y), np.linalg.norm(x))"
   ]
  },
  {
   "cell_type": "code",
   "execution_count": 23,
   "metadata": {},
   "outputs": [
    {
     "data": {
      "text/plain": [
       "2.112973127658849e-15"
      ]
     },
     "execution_count": 23,
     "metadata": {},
     "output_type": "execute_result"
    }
   ],
   "source": [
    "#OMP: Orthogonal Matchin Pursuit\n",
    "S = []\n",
    "vec = np.zeros(N)\n",
    "n_iter = s + 1\n",
    "for i in range(n_iter):\n",
    "    y_n = mat.dot(vec/np.sqrt(q))\n",
    "    j = np.argmax([abs(ele) for ele in mat.getH().dot(y - y_n)])\n",
    "    if j not in S:\n",
    "        S.append(j)\n",
    "    x_n = np.linalg.pinv(mat.toarray()[:,S]/np.sqrt(q)).dot(y)   \n",
    "    vec = np.zeros(N)\n",
    "    #print(mat.toarray()[:,S].shape)\n",
    "    vec[S] = x_n\n",
    "\n",
    "np.linalg.norm(x-vec)"
   ]
  },
  {
   "cell_type": "code",
   "execution_count": 30,
   "metadata": {},
   "outputs": [
    {
     "data": {
      "text/plain": [
       "1.3877787807814457e-17"
      ]
     },
     "execution_count": 30,
     "metadata": {},
     "output_type": "execute_result"
    }
   ],
   "source": [
    "#IHT: Iterative Hard Thresholding\n",
    "n_iter = 2*s\n",
    "vec = np.zeros(N)\n",
    "for i in range(n_iter):\n",
    "    y_n = mat.dot(vec/np.sqrt(q))\n",
    "    x_n = vec + mat.getH().dot((y-y_n)/np.sqrt(q))\n",
    "    vec = np.zeros(N)\n",
    "    indx = np.argsort(np.abs(x_n))[-s:]\n",
    "    for idx in indx:\n",
    "        vec[idx] = x_n[idx]\n",
    "  \n",
    "np.linalg.norm(x-vec)"
   ]
  },
  {
   "cell_type": "markdown",
   "metadata": {},
   "source": [
    "This is based on the following paper:\n",
    "Unbalanced expanders and randomness extractors from Parvesh-Vardy codes by V. Guruswami, C. Vadhan, and S. Umans"
   ]
  },
  {
   "cell_type": "code",
   "execution_count": null,
   "metadata": {},
   "outputs": [],
   "source": []
  }
 ],
 "metadata": {
  "kernelspec": {
   "display_name": "Python 3",
   "language": "python",
   "name": "python3"
  },
  "language_info": {
   "codemirror_mode": {
    "name": "ipython",
    "version": 3
   },
   "file_extension": ".py",
   "mimetype": "text/x-python",
   "name": "python",
   "nbconvert_exporter": "python",
   "pygments_lexer": "ipython3",
   "version": "3.7.6"
  }
 },
 "nbformat": 4,
 "nbformat_minor": 4
}
